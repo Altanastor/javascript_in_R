{
 "cells": [
  {
   "cell_type": "code",
   "execution_count": 1,
   "metadata": {
    "collapsed": true
   },
   "outputs": [],
   "source": [
    "library(httpuv)\n",
    "library(jsonlite)\n",
    "library(class)\n",
    "source(\"util.R\")\n",
    "\n",
    "source(\"my_util.R\")\n",
    "html_filename <- \"knn_app.html\"\n",
    "user_function <- function(msg) {\n",
    "  in_msg <- fromJSON(msg)\n",
    "  # Create and extract data\n",
    "  grid_data <- make_uniform_grid(0, 400, 20)  # this is a 'constant' df\n",
    "  train_data <- data.frame(x1 = in_msg$x1, x2 = in_msg$x2, y = in_msg$y)\n",
    "  # print(train_data)\n",
    "  # Refit models\n",
    "  knn_pred <- knn(train_data[,1:2], grid_data[,1:2], train_data[,3])\n",
    "  grid_data[['y']] <- as.numeric(as.character(knn_pred))\n",
    "  # Pass grid and data over\n",
    "  out_msg <- list(x1 = grid_data[['x1']], \n",
    "                  x2 = grid_data[['x2']], \n",
    "                  y = grid_data[['y']])\n",
    "  toJSON(out_msg)\n",
    "}\n"
   ]
  },
  {
   "cell_type": "code",
   "execution_count": 4,
   "metadata": {},
   "outputs": [],
   "source": [
    "app <- create_app(html_filename, user_function)\n",
    "browseURL(\"http://localhost:9454/\")\n",
    "runServer(\"0.0.0.0\", 9454, app, 250)"
   ]
  },
  {
   "cell_type": "code",
   "execution_count": 5,
   "metadata": {},
   "outputs": [
    {
     "ename": "ERROR",
     "evalue": "Error in parse(text = x, srcfile = src): <text>:1:6: unexpected symbol\n1: from IPython.display\n         ^\n",
     "output_type": "error",
     "traceback": [
      "Error in parse(text = x, srcfile = src): <text>:1:6: unexpected symbol\n1: from IPython.display\n         ^\nTraceback:\n"
     ]
    }
   ],
   "source": []
  },
  {
   "cell_type": "code",
   "execution_count": null,
   "metadata": {
    "collapsed": true
   },
   "outputs": [],
   "source": []
  }
 ],
 "metadata": {
  "kernelspec": {
   "display_name": "R",
   "language": "R",
   "name": "ir"
  },
  "language_info": {
   "codemirror_mode": "r",
   "file_extension": ".r",
   "mimetype": "text/x-r-source",
   "name": "R",
   "pygments_lexer": "r",
   "version": "3.4.2"
  }
 },
 "nbformat": 4,
 "nbformat_minor": 2
}
